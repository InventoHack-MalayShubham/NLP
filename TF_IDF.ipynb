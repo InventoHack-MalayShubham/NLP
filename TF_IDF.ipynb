{
 "cells": [
  {
   "cell_type": "code",
   "execution_count": 9,
   "id": "7cbe3210",
   "metadata": {},
   "outputs": [
    {
     "name": "stdout",
     "output_type": "stream",
     "text": [
      "TF-IDF Matrix:\n",
      " [[0.         0.57735027 0.57735027 0.         0.         0.\n",
      "  0.57735027 0.         0.         0.        ]\n",
      " [0.         0.42804604 0.         0.         0.         0.5628291\n",
      "  0.42804604 0.5628291  0.         0.        ]\n",
      " [0.42339448 0.         0.32200242 0.42339448 0.42339448 0.\n",
      "  0.         0.         0.42339448 0.42339448]]\n",
      "Feature Names:\n",
      " ['AI' 'I' 'NLP' 'a' 'is' 'learning' 'love' 'machine' 'of' 'part']\n"
     ]
    }
   ],
   "source": [
    "from sklearn.feature_extraction.text import TfidfVectorizer\n",
    "\n",
    "# Sample documents\n",
    "docs = [\n",
    "    \"I love NLP\",\n",
    "    \"I love machine learning\",\n",
    "    \"NLP is a part of AI\"\n",
    "]\n",
    "\n",
    "# Initialize the vectorizer\n",
    "vectorizer = TfidfVectorizer(stop_words=None, lowercase=False, token_pattern=r\"(?u)\\b\\w+\\b\")\n",
    "\n",
    "# Transform the documents\n",
    "X = vectorizer.fit_transform(docs)\n",
    "\n",
    "# Convert to array and print\n",
    "print(\"TF-IDF Matrix:\\n\", X.toarray())\n",
    "\n",
    "# Print the vocabulary\n",
    "print(\"Feature Names:\\n\", vectorizer.get_feature_names_out())"
   ]
  }
 ],
 "metadata": {
  "kernelspec": {
   "display_name": "ml_env",
   "language": "python",
   "name": "python3"
  },
  "language_info": {
   "codemirror_mode": {
    "name": "ipython",
    "version": 3
   },
   "file_extension": ".py",
   "mimetype": "text/x-python",
   "name": "python",
   "nbconvert_exporter": "python",
   "pygments_lexer": "ipython3",
   "version": "3.12.10"
  }
 },
 "nbformat": 4,
 "nbformat_minor": 5
}
